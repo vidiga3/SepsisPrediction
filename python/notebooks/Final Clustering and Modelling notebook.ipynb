{
 "cells": [
  {
   "cell_type": "markdown",
   "metadata": {},
   "source": [
    "# Clustering and Modelling\n",
    "\n",
    ">1. Topic distribution of each patient using LDA <br>\n",
    ">2. cluster the top distribution using clustering algorithm <br>\n",
    ">3. Model each cluster <br>\n",
    ">4. Build ROC Curve <br>\n",
    ">5. Confusion matrix <br>"
   ]
  },
  {
   "cell_type": "code",
   "execution_count": 1,
   "metadata": {
    "ExecuteTime": {
     "end_time": "2019-04-27T22:01:21.579029Z",
     "start_time": "2019-04-27T22:01:20.427616Z"
    }
   },
   "outputs": [],
   "source": [
    "import pandas as pd\n",
    "import numpy as np\n",
    "import matplotlib.pyplot as plt\n",
    "import seaborn as sns\n",
    "%matplotlib inline"
   ]
  },
  {
   "cell_type": "markdown",
   "metadata": {},
   "source": [
    "## Load Data"
   ]
  },
  {
   "cell_type": "code",
   "execution_count": 2,
   "metadata": {
    "ExecuteTime": {
     "end_time": "2019-04-27T22:01:23.661261Z",
     "start_time": "2019-04-27T22:01:22.866564Z"
    }
   },
   "outputs": [],
   "source": [
    "\"\"\"\n",
    " df: Feature dataframe\n",
    " dfNotes: Notes dataframe\n",
    "\"\"\"\n",
    "df = pd.read_csv('notebooks/cse6250_features.csv')\n",
    "dfNotes = pd.read_csv('topicfeatures.csv',header=None)\n",
    "dfNotes.columns = ['subject_id'] + ['topic_'+str(x) for x in range(1,21)]\n"
   ]
  },
  {
   "cell_type": "code",
   "execution_count": 3,
   "metadata": {
    "ExecuteTime": {
     "end_time": "2019-04-27T22:01:55.443832Z",
     "start_time": "2019-04-27T22:01:55.439900Z"
    }
   },
   "outputs": [],
   "source": [
    "from sklearn.cluster import KMeans, SpectralClustering\n",
    "\n",
    "n_clusters = 4"
   ]
  },
  {
   "cell_type": "markdown",
   "metadata": {},
   "source": [
    "## KMeans Algo"
   ]
  },
  {
   "cell_type": "code",
   "execution_count": 6,
   "metadata": {
    "ExecuteTime": {
     "end_time": "2019-04-27T22:11:20.254284Z",
     "start_time": "2019-04-27T22:11:19.201612Z"
    }
   },
   "outputs": [],
   "source": [
    "\"\"\"\n",
    "KMeans Algo find clusters\n",
    "Merge features and cluster\n",
    "\"\"\"\n",
    "kmeans = KMeans(n_clusters=n_clusters).fit(dfNotes[dfNotes.columns[1:]])\n",
    "dfNotes['cluster'] = kmeans.labels_\n"
   ]
  },
  {
   "cell_type": "code",
   "execution_count": 87,
   "metadata": {
    "ExecuteTime": {
     "end_time": "2019-04-27T23:59:18.949500Z",
     "start_time": "2019-04-27T23:59:18.947114Z"
    }
   },
   "outputs": [],
   "source": [
    "finalOutput = {}"
   ]
  },
  {
   "cell_type": "markdown",
   "metadata": {
    "ExecuteTime": {
     "end_time": "2019-04-27T22:12:05.170145Z",
     "start_time": "2019-04-27T22:12:05.055623Z"
    }
   },
   "source": [
    "## Model each cluster"
   ]
  },
  {
   "cell_type": "code",
   "execution_count": 11,
   "metadata": {
    "ExecuteTime": {
     "end_time": "2019-04-27T22:20:05.608675Z",
     "start_time": "2019-04-27T22:19:59.673074Z"
    }
   },
   "outputs": [],
   "source": [
    "import os\n",
    "import sys\n",
    "import torch\n",
    "import torch.nn as nn\n",
    "from torch.utils.data import DataLoader\n",
    "import torch.optim as optim\n",
    "\n",
    "from utils import xtrain, evaluate\n",
    "from mymodels import loadDataSet,MyCNN, MyRNN\n",
    "from stats import Model,statScores,func,splitNRunModel\n",
    "from plots import plot_learning_curves, plot_confusion_matrix\n",
    "\n",
    "from sklearn.model_selection import train_test_split\n",
    "from sklearn.linear_model import LogisticRegression\n",
    "from sklearn import metrics\n",
    "from sklearn.metrics import classification_report\n",
    "from sklearn.metrics import roc_auc_score\n",
    "from sklearn.metrics import roc_curve\n",
    "from sklearn.metrics import accuracy_score\n",
    "from xgboost import XGBClassifier\n",
    "from xgboost import plot_importance"
   ]
  },
  {
   "cell_type": "code",
   "execution_count": 49,
   "metadata": {
    "ExecuteTime": {
     "end_time": "2019-04-27T23:11:32.813119Z",
     "start_time": "2019-04-27T23:11:32.794848Z"
    }
   },
   "outputs": [],
   "source": [
    "def rocCurve(df,model):\n",
    "    y_test,y_pred,y_prob = df.y_test,df.y_pred,df.y_prob\n",
    "    logit_roc_auc = roc_auc_score(y_test, y_pred)\n",
    "    fpr, tpr, thresholds = roc_curve(y_test, y_prob)\n",
    "    plt.plot(fpr, tpr, label= model + ' (area = %0.2f)' % logit_roc_auc)\n",
    "    print(logit_roc_auc)\n",
    "    plt.plot([0, 1], [0, 1],'r--')\n",
    "    plt.xlim([0.0, 1.0])\n",
    "    plt.ylim([0.0, 1.05])\n",
    "    plt.xlabel('False Positive Rate')\n",
    "    plt.ylabel('True Positive Rate')\n",
    "    plt.title('Receiver operating characteristic')\n",
    "    plt.legend(loc=\"lower right\")\n",
    "#     plt.savefig(saveFig)\n",
    "    plt.show()"
   ]
  },
  {
   "cell_type": "code",
   "execution_count": 50,
   "metadata": {
    "ExecuteTime": {
     "end_time": "2019-04-27T23:11:38.772411Z",
     "start_time": "2019-04-27T23:11:38.769542Z"
    }
   },
   "outputs": [],
   "source": [
    "# features = [feature for feature in data.columns if feature not in \n",
    "#             ['angus','subject_id','cluster','dob','gender','age_group','maxDate','first_admittime']]\n",
    "# # features"
   ]
  },
  {
   "cell_type": "code",
   "execution_count": 29,
   "metadata": {
    "ExecuteTime": {
     "end_time": "2019-04-27T22:46:50.602482Z",
     "start_time": "2019-04-27T22:46:50.587837Z"
    }
   },
   "outputs": [],
   "source": [
    "def runNewModel(train,test,mlModel):\n",
    "    global features\n",
    "    X_train,y_train = train.loc[:, features],train.angus\n",
    "    X_test,y_test = test.loc[:, features],test.angus\n",
    "    model = mlModel.model\n",
    "    model.fit(X_train, y_train)\n",
    "    if('xgboost'==mlModel.label):\n",
    "        plot_importance(model,max_num_features=15)\n",
    "    y_pred = model.predict(X_test)\n",
    "    y_prob = model.predict_proba(X_test)[:,1]\n",
    "    df = pd.DataFrame({'y_test':y_test,'y_pred':y_pred,'y_prob':y_prob})\n",
    "    return df"
   ]
  },
  {
   "cell_type": "code",
   "execution_count": 53,
   "metadata": {
    "ExecuteTime": {
     "end_time": "2019-04-27T23:13:25.486694Z",
     "start_time": "2019-04-27T23:13:25.455963Z"
    }
   },
   "outputs": [],
   "source": [
    "import torch.nn.functional as F\n",
    "class MyCNN(nn.Module):\n",
    "\tdef __init__(self,size):\n",
    "\t\tsuper(MyCNN, self).__init__()\n",
    "\t\tself.size = size\n",
    "\t\tself.conv1 = nn.Conv1d(in_channels=1,out_channels=6,kernel_size=5)\n",
    "\t\tself.pool = nn.MaxPool1d(kernel_size=2)\n",
    "\t\tself.conv2 = nn.Conv1d(in_channels=6,out_channels=16,kernel_size=5)\n",
    "\t\tself.linear1 = nn.Linear(self.size,128)\n",
    "\t\tself.linear2 = nn.Linear(128,64)\n",
    "\t\tself.linear_out = nn.Linear(128,2)\n",
    "\n",
    "\tdef forward(self, x):\n",
    "\t\tx = self.pool(F.relu(self.conv1(x)))\n",
    "\t\tx = self.pool(F.relu(self.conv2(x)))\n",
    "\t\t# print(x.shape)\n",
    "\t\tx = x.view(-1, self.size)\n",
    "\t\tx = F.relu(self.linear1(x))\n",
    "\t\tx = self.linear_out(x)\n",
    "\t\treturn x"
   ]
  },
  {
   "cell_type": "code",
   "execution_count": 77,
   "metadata": {
    "ExecuteTime": {
     "end_time": "2019-04-27T23:30:21.931035Z",
     "start_time": "2019-04-27T23:30:21.927409Z"
    }
   },
   "outputs": [],
   "source": [
    "result = []\n",
    "models = []\n",
    "PATH_OUTPUT = \"./mimic/sepsis/final/\"\n",
    "os.makedirs(PATH_OUTPUT, exist_ok=True)"
   ]
  },
  {
   "cell_type": "code",
   "execution_count": 84,
   "metadata": {
    "ExecuteTime": {
     "end_time": "2019-04-27T23:47:49.434280Z",
     "start_time": "2019-04-27T23:47:49.353625Z"
    }
   },
   "outputs": [],
   "source": [
    "\n",
    "\n",
    "def runCNNRNN(cols,label,trainDF,testDF,PATH_OUTPUT):\n",
    "    BATCH_SIZE = 42\n",
    "    size   = 16*21\n",
    "    \n",
    "    os.makedirs(PATH_OUTPUT, exist_ok=True)\n",
    "    output_dict = {}\n",
    "        \n",
    "    if(label == '_with_Out_Notes'):\n",
    "        BATCH_SIZE = 32\n",
    "        size = 16*16\n",
    "    for modelType in ['CNN','RNN']:\n",
    "        if modelType=='RNN':\n",
    "            model = MyRNN()\n",
    "            save_file = 'myRNN'+label+'.pth'\n",
    "\n",
    "        elif modelType == 'CNN':\n",
    "            model = MyCNN(size)\n",
    "            save_file = 'myCNN'+label+'.pth'\n",
    "#             BATCH_SIZE = 42\n",
    "\n",
    "#         models.append(modelType+label)\n",
    "        NUM_EPOCHS = 10\t\n",
    "        USE_CUDA = False  # Set 'True' if you want to use GPU\n",
    "        NUM_WORKERS = 0 \n",
    "\n",
    "        \n",
    "\n",
    "        train_dataset = loadDataSet(trainDF[cols],modelType)\n",
    "        test_dataset = loadDataSet(testDF[cols],modelType)\n",
    "        train_loader = torch.utils.data.DataLoader(train_dataset, batch_size=BATCH_SIZE, shuffle=True, num_workers=NUM_WORKERS)\n",
    "        test_loader = torch.utils.data.DataLoader(test_dataset, batch_size=BATCH_SIZE, shuffle=True, num_workers=NUM_WORKERS)\n",
    "\n",
    "\n",
    "        lrate = 0.1\n",
    "\n",
    "        criterion = nn.CrossEntropyLoss()\n",
    "        optimizer = optim.Adam(model.parameters())\n",
    "\n",
    "        device = torch.device(\"cuda\" if torch.cuda.is_available() else \"cpu\")\n",
    "        model.to(device)\n",
    "        criterion.to(device)\n",
    "\n",
    "        for epoch in range(NUM_EPOCHS):\n",
    "            train_loss, train_accuracy = xtrain(model, device, train_loader, criterion, optimizer, epoch)\n",
    "            torch.save(model, os.path.join(PATH_OUTPUT, save_file))\n",
    "\n",
    "        best_model = torch.load(os.path.join(PATH_OUTPUT, save_file))\n",
    "        test_loss, test_accuracy, test_results = evaluate(best_model, device, test_loader, criterion)\n",
    "        output_dict[modelType]=pd.DataFrame(test_results,columns=['y_test','y_pred','y_prob'])\n",
    "    return output_dict\n"
   ]
  },
  {
   "cell_type": "code",
   "execution_count": null,
   "metadata": {},
   "outputs": [],
   "source": []
  },
  {
   "cell_type": "code",
   "execution_count": null,
   "metadata": {},
   "outputs": [],
   "source": []
  },
  {
   "cell_type": "code",
   "execution_count": null,
   "metadata": {},
   "outputs": [],
   "source": []
  },
  {
   "cell_type": "code",
   "execution_count": null,
   "metadata": {},
   "outputs": [],
   "source": []
  },
  {
   "cell_type": "code",
   "execution_count": null,
   "metadata": {},
   "outputs": [],
   "source": []
  },
  {
   "cell_type": "markdown",
   "metadata": {},
   "source": [
    "## Model with out Notes"
   ]
  },
  {
   "cell_type": "code",
   "execution_count": 73,
   "metadata": {
    "ExecuteTime": {
     "end_time": "2019-04-27T23:28:58.733095Z",
     "start_time": "2019-04-27T23:28:58.630786Z"
    }
   },
   "outputs": [],
   "source": [
    "data = df.merge(dfNotes[['subject_id','cluster']])\n",
    "features = [feature for feature in data.columns if feature not in \n",
    "            ['angus','subject_id','cluster','dob','gender','age_group','maxDate','first_admittime']]"
   ]
  },
  {
   "cell_type": "code",
   "execution_count": 74,
   "metadata": {
    "ExecuteTime": {
     "end_time": "2019-04-27T23:29:09.002066Z",
     "start_time": "2019-04-27T23:29:08.901907Z"
    }
   },
   "outputs": [],
   "source": [
    "train,test = train_test_split(data,test_size=0.2)\n",
    "\n"
   ]
  },
  {
   "cell_type": "code",
   "execution_count": 88,
   "metadata": {
    "ExecuteTime": {
     "end_time": "2019-04-28T00:01:46.166474Z",
     "start_time": "2019-04-28T00:01:46.164063Z"
    }
   },
   "outputs": [],
   "source": [
    "label = 'withOutNotes'"
   ]
  },
  {
   "cell_type": "code",
   "execution_count": 89,
   "metadata": {
    "ExecuteTime": {
     "end_time": "2019-04-28T00:01:47.681006Z",
     "start_time": "2019-04-28T00:01:47.678305Z"
    }
   },
   "outputs": [],
   "source": [
    "finalOutput[label] = dict()"
   ]
  },
  {
   "cell_type": "code",
   "execution_count": 90,
   "metadata": {
    "ExecuteTime": {
     "end_time": "2019-04-28T00:02:20.309189Z",
     "start_time": "2019-04-28T00:02:18.232120Z"
    }
   },
   "outputs": [
    {
     "name": "stderr",
     "output_type": "stream",
     "text": [
      "//anaconda/envs/py36/lib/python3.6/site-packages/sklearn/linear_model/logistic.py:433: FutureWarning: Default solver will be changed to 'lbfgs' in 0.22. Specify a solver to silence this warning.\n",
      "  FutureWarning)\n"
     ]
    },
    {
     "name": "stdout",
     "output_type": "stream",
     "text": [
      "0.8059462436138065\n"
     ]
    },
    {
     "name": "stderr",
     "output_type": "stream",
     "text": [
      "//anaconda/envs/py36/lib/python3.6/site-packages/sklearn/svm/base.py:931: ConvergenceWarning: Liblinear failed to converge, increase the number of iterations.\n",
      "  \"the number of iterations.\", ConvergenceWarning)\n"
     ]
    }
   ],
   "source": [
    "output = pd.concat([output,runNewModel(train,test,Model(LogisticRegression(),'Logistic'))]) \n",
    "finalOutput[label]['Logistic'] = output\n",
    "rocCurve(output,'Logistic with out notes')"
   ]
  },
  {
   "cell_type": "code",
   "execution_count": 85,
   "metadata": {
    "ExecuteTime": {
     "end_time": "2019-04-27T23:54:21.828527Z",
     "start_time": "2019-04-27T23:49:03.807479Z"
    }
   },
   "outputs": [
    {
     "name": "stderr",
     "output_type": "stream",
     "text": [
      "//anaconda/envs/py36/lib/python3.6/site-packages/torch/serialization.py:251: UserWarning: Couldn't retrieve source code for container of type MyCNN. It won't be checked for correctness upon loading.\n",
      "  \"type \" + obj.__name__ + \". It won't be checked \"\n",
      "//anaconda/envs/py36/lib/python3.6/site-packages/torch/serialization.py:251: UserWarning: Couldn't retrieve source code for container of type MyCNN. It won't be checked for correctness upon loading.\n",
      "  \"type \" + obj.__name__ + \". It won't be checked \"\n",
      "//anaconda/envs/py36/lib/python3.6/site-packages/torch/serialization.py:251: UserWarning: Couldn't retrieve source code for container of type MyCNN. It won't be checked for correctness upon loading.\n",
      "  \"type \" + obj.__name__ + \". It won't be checked \"\n",
      "//anaconda/envs/py36/lib/python3.6/site-packages/torch/serialization.py:251: UserWarning: Couldn't retrieve source code for container of type MyCNN. It won't be checked for correctness upon loading.\n",
      "  \"type \" + obj.__name__ + \". It won't be checked \"\n",
      "//anaconda/envs/py36/lib/python3.6/site-packages/torch/serialization.py:251: UserWarning: Couldn't retrieve source code for container of type MyCNN. It won't be checked for correctness upon loading.\n",
      "  \"type \" + obj.__name__ + \". It won't be checked \"\n",
      "//anaconda/envs/py36/lib/python3.6/site-packages/torch/serialization.py:251: UserWarning: Couldn't retrieve source code for container of type MyCNN. It won't be checked for correctness upon loading.\n",
      "  \"type \" + obj.__name__ + \". It won't be checked \"\n",
      "//anaconda/envs/py36/lib/python3.6/site-packages/torch/serialization.py:251: UserWarning: Couldn't retrieve source code for container of type MyCNN. It won't be checked for correctness upon loading.\n",
      "  \"type \" + obj.__name__ + \". It won't be checked \"\n",
      "//anaconda/envs/py36/lib/python3.6/site-packages/torch/serialization.py:251: UserWarning: Couldn't retrieve source code for container of type MyCNN. It won't be checked for correctness upon loading.\n",
      "  \"type \" + obj.__name__ + \". It won't be checked \"\n",
      "//anaconda/envs/py36/lib/python3.6/site-packages/torch/serialization.py:251: UserWarning: Couldn't retrieve source code for container of type MyCNN. It won't be checked for correctness upon loading.\n",
      "  \"type \" + obj.__name__ + \". It won't be checked \"\n",
      "//anaconda/envs/py36/lib/python3.6/site-packages/torch/serialization.py:251: UserWarning: Couldn't retrieve source code for container of type MyCNN. It won't be checked for correctness upon loading.\n",
      "  \"type \" + obj.__name__ + \". It won't be checked \"\n"
     ]
    }
   ],
   "source": [
    "output_dict = runCNNRNN(features+['angus'],'_with_Out_Notes',train,test,PATH_OUTPUT)"
   ]
  },
  {
   "cell_type": "code",
   "execution_count": 91,
   "metadata": {
    "ExecuteTime": {
     "end_time": "2019-04-28T00:02:52.692514Z",
     "start_time": "2019-04-28T00:02:52.642214Z"
    }
   },
   "outputs": [
    {
     "name": "stdout",
     "output_type": "stream",
     "text": [
      "0.7794619818133321\n",
      "CNN\n",
      "****************\n",
      "0.8175235858043551\n",
      "RNN\n",
      "****************\n"
     ]
    }
   ],
   "source": [
    "for modelType,output in output_dict.items():\n",
    "    finalOutput[label][modelType] = output\n",
    "    rocCurve(output,modelType)\n",
    "    print(modelType)\n",
    "    print(\"****************\")"
   ]
  },
  {
   "cell_type": "markdown",
   "metadata": {},
   "source": [
    "## Model with soft clustering"
   ]
  },
  {
   "cell_type": "code",
   "execution_count": 93,
   "metadata": {
    "ExecuteTime": {
     "end_time": "2019-04-28T00:04:52.594160Z",
     "start_time": "2019-04-28T00:04:52.476472Z"
    }
   },
   "outputs": [],
   "source": [
    "data_soft = df.merge(dfNotes)"
   ]
  },
  {
   "cell_type": "code",
   "execution_count": 94,
   "metadata": {
    "ExecuteTime": {
     "end_time": "2019-04-28T00:05:02.269338Z",
     "start_time": "2019-04-28T00:05:02.266588Z"
    }
   },
   "outputs": [],
   "source": [
    "features = [feature for feature in data_soft.columns if feature not in \n",
    "            ['angus','subject_id','cluster','dob','gender','age_group','maxDate','first_admittime']]"
   ]
  },
  {
   "cell_type": "code",
   "execution_count": 98,
   "metadata": {
    "ExecuteTime": {
     "end_time": "2019-04-28T00:06:00.388388Z",
     "start_time": "2019-04-28T00:06:00.344916Z"
    }
   },
   "outputs": [],
   "source": [
    "label = 'Notes_soft_Clustering'\n",
    "train,test = train_test_split(data_soft,test_size=0.2)\n",
    "finalOutput[label] = dict()"
   ]
  },
  {
   "cell_type": "code",
   "execution_count": 99,
   "metadata": {
    "ExecuteTime": {
     "end_time": "2019-04-28T00:06:07.320795Z",
     "start_time": "2019-04-28T00:06:01.991689Z"
    }
   },
   "outputs": [
    {
     "name": "stderr",
     "output_type": "stream",
     "text": [
      "//anaconda/envs/py36/lib/python3.6/site-packages/sklearn/linear_model/logistic.py:433: FutureWarning: Default solver will be changed to 'lbfgs' in 0.22. Specify a solver to silence this warning.\n",
      "  FutureWarning)\n"
     ]
    },
    {
     "name": "stdout",
     "output_type": "stream",
     "text": [
      "0.8221343583273824\n"
     ]
    },
    {
     "name": "stderr",
     "output_type": "stream",
     "text": [
      "//anaconda/envs/py36/lib/python3.6/site-packages/sklearn/svm/base.py:931: ConvergenceWarning: Liblinear failed to converge, increase the number of iterations.\n",
      "  \"the number of iterations.\", ConvergenceWarning)\n"
     ]
    }
   ],
   "source": [
    "\n",
    "output = pd.concat([output,runNewModel(train,test,Model(LogisticRegression(),'Logistic'))]) \n",
    "finalOutput[label]['Logistic'] = output\n",
    "rocCurve(output,'Logistic with out notes')"
   ]
  },
  {
   "cell_type": "code",
   "execution_count": 101,
   "metadata": {
    "ExecuteTime": {
     "end_time": "2019-04-28T00:28:00.223819Z",
     "start_time": "2019-04-28T00:22:34.560085Z"
    }
   },
   "outputs": [
    {
     "name": "stderr",
     "output_type": "stream",
     "text": [
      "//anaconda/envs/py36/lib/python3.6/site-packages/torch/serialization.py:251: UserWarning: Couldn't retrieve source code for container of type MyCNN. It won't be checked for correctness upon loading.\n",
      "  \"type \" + obj.__name__ + \". It won't be checked \"\n",
      "//anaconda/envs/py36/lib/python3.6/site-packages/torch/serialization.py:251: UserWarning: Couldn't retrieve source code for container of type MyCNN. It won't be checked for correctness upon loading.\n",
      "  \"type \" + obj.__name__ + \". It won't be checked \"\n",
      "//anaconda/envs/py36/lib/python3.6/site-packages/torch/serialization.py:251: UserWarning: Couldn't retrieve source code for container of type MyCNN. It won't be checked for correctness upon loading.\n",
      "  \"type \" + obj.__name__ + \". It won't be checked \"\n",
      "//anaconda/envs/py36/lib/python3.6/site-packages/torch/serialization.py:251: UserWarning: Couldn't retrieve source code for container of type MyCNN. It won't be checked for correctness upon loading.\n",
      "  \"type \" + obj.__name__ + \". It won't be checked \"\n",
      "//anaconda/envs/py36/lib/python3.6/site-packages/torch/serialization.py:251: UserWarning: Couldn't retrieve source code for container of type MyCNN. It won't be checked for correctness upon loading.\n",
      "  \"type \" + obj.__name__ + \". It won't be checked \"\n",
      "//anaconda/envs/py36/lib/python3.6/site-packages/torch/serialization.py:251: UserWarning: Couldn't retrieve source code for container of type MyCNN. It won't be checked for correctness upon loading.\n",
      "  \"type \" + obj.__name__ + \". It won't be checked \"\n",
      "//anaconda/envs/py36/lib/python3.6/site-packages/torch/serialization.py:251: UserWarning: Couldn't retrieve source code for container of type MyCNN. It won't be checked for correctness upon loading.\n",
      "  \"type \" + obj.__name__ + \". It won't be checked \"\n",
      "//anaconda/envs/py36/lib/python3.6/site-packages/torch/serialization.py:251: UserWarning: Couldn't retrieve source code for container of type MyCNN. It won't be checked for correctness upon loading.\n",
      "  \"type \" + obj.__name__ + \". It won't be checked \"\n",
      "//anaconda/envs/py36/lib/python3.6/site-packages/torch/serialization.py:251: UserWarning: Couldn't retrieve source code for container of type MyCNN. It won't be checked for correctness upon loading.\n",
      "  \"type \" + obj.__name__ + \". It won't be checked \"\n",
      "//anaconda/envs/py36/lib/python3.6/site-packages/torch/serialization.py:251: UserWarning: Couldn't retrieve source code for container of type MyCNN. It won't be checked for correctness upon loading.\n",
      "  \"type \" + obj.__name__ + \". It won't be checked \"\n"
     ]
    }
   ],
   "source": [
    "output_dict = runCNNRNN(features+['angus'],'_with_Notes',train,test,PATH_OUTPUT+'with_notes/')"
   ]
  },
  {
   "cell_type": "code",
   "execution_count": 102,
   "metadata": {
    "ExecuteTime": {
     "end_time": "2019-04-28T00:28:09.427044Z",
     "start_time": "2019-04-28T00:28:09.377483Z"
    }
   },
   "outputs": [
    {
     "name": "stdout",
     "output_type": "stream",
     "text": [
      "0.875087887852916\n",
      "CNN\n",
      "****************\n",
      "0.8222869401925891\n",
      "RNN\n",
      "****************\n"
     ]
    }
   ],
   "source": [
    "for modelType,output in output_dict.items():\n",
    "    finalOutput[label][modelType] = output\n",
    "    rocCurve(output,modelType)\n",
    "    print(modelType)\n",
    "    print(\"****************\")"
   ]
  },
  {
   "cell_type": "code",
   "execution_count": null,
   "metadata": {},
   "outputs": [],
   "source": []
  },
  {
   "cell_type": "code",
   "execution_count": null,
   "metadata": {},
   "outputs": [],
   "source": []
  },
  {
   "cell_type": "code",
   "execution_count": null,
   "metadata": {},
   "outputs": [],
   "source": []
  },
  {
   "cell_type": "code",
   "execution_count": null,
   "metadata": {},
   "outputs": [],
   "source": []
  },
  {
   "cell_type": "code",
   "execution_count": null,
   "metadata": {},
   "outputs": [],
   "source": []
  },
  {
   "cell_type": "markdown",
   "metadata": {},
   "source": [
    "## Running model for each cluster"
   ]
  },
  {
   "cell_type": "code",
   "execution_count": 103,
   "metadata": {
    "ExecuteTime": {
     "end_time": "2019-04-28T00:28:33.520686Z",
     "start_time": "2019-04-28T00:28:33.419595Z"
    }
   },
   "outputs": [],
   "source": [
    "data = df.merge(dfNotes[['subject_id','cluster']])\n",
    "features = [feature for feature in data.columns if feature not in \n",
    "            ['angus','subject_id','cluster','dob','gender','age_group','maxDate','first_admittime']]"
   ]
  },
  {
   "cell_type": "code",
   "execution_count": 105,
   "metadata": {
    "ExecuteTime": {
     "end_time": "2019-04-28T00:30:47.660123Z",
     "start_time": "2019-04-28T00:30:47.601286Z"
    }
   },
   "outputs": [],
   "source": [
    "label = 'KMeans'\n",
    "train,test = train_test_split(data,test_size=0.2)\n",
    "finalOutput[label] = dict()"
   ]
  },
  {
   "cell_type": "code",
   "execution_count": 106,
   "metadata": {
    "ExecuteTime": {
     "end_time": "2019-04-28T00:31:36.970019Z",
     "start_time": "2019-04-28T00:31:35.728435Z"
    }
   },
   "outputs": [
    {
     "name": "stderr",
     "output_type": "stream",
     "text": [
      "//anaconda/envs/py36/lib/python3.6/site-packages/sklearn/linear_model/logistic.py:433: FutureWarning: Default solver will be changed to 'lbfgs' in 0.22. Specify a solver to silence this warning.\n",
      "  FutureWarning)\n",
      "//anaconda/envs/py36/lib/python3.6/site-packages/sklearn/linear_model/logistic.py:433: FutureWarning: Default solver will be changed to 'lbfgs' in 0.22. Specify a solver to silence this warning.\n",
      "  FutureWarning)\n",
      "//anaconda/envs/py36/lib/python3.6/site-packages/sklearn/linear_model/logistic.py:433: FutureWarning: Default solver will be changed to 'lbfgs' in 0.22. Specify a solver to silence this warning.\n",
      "  FutureWarning)\n",
      "//anaconda/envs/py36/lib/python3.6/site-packages/sklearn/linear_model/logistic.py:433: FutureWarning: Default solver will be changed to 'lbfgs' in 0.22. Specify a solver to silence this warning.\n",
      "  FutureWarning)\n"
     ]
    },
    {
     "name": "stdout",
     "output_type": "stream",
     "text": [
      "0.798460183151687\n"
     ]
    }
   ],
   "source": [
    "output = pd.DataFrame()\n",
    "for cluster in range(n_clusters):\n",
    "    cluster_df = data.loc[data.cluster==cluster]\n",
    "    train,test = train_test_split(cluster_df,test_size=0.2)\n",
    "    output = pd.concat([output,runNewModel(train,test,Model(LogisticRegression(),'Logistic'))]) \n",
    "\n",
    "finalOutput[label]['Logistic'] = output\n",
    "rocCurve(output,'Logistic_Kmeans')"
   ]
  },
  {
   "cell_type": "code",
   "execution_count": 107,
   "metadata": {
    "ExecuteTime": {
     "end_time": "2019-04-28T00:40:40.186163Z",
     "start_time": "2019-04-28T00:36:01.445083Z"
    }
   },
   "outputs": [
    {
     "name": "stderr",
     "output_type": "stream",
     "text": [
      "//anaconda/envs/py36/lib/python3.6/site-packages/torch/serialization.py:251: UserWarning: Couldn't retrieve source code for container of type MyCNN. It won't be checked for correctness upon loading.\n",
      "  \"type \" + obj.__name__ + \". It won't be checked \"\n",
      "//anaconda/envs/py36/lib/python3.6/site-packages/torch/serialization.py:251: UserWarning: Couldn't retrieve source code for container of type MyCNN. It won't be checked for correctness upon loading.\n",
      "  \"type \" + obj.__name__ + \". It won't be checked \"\n",
      "//anaconda/envs/py36/lib/python3.6/site-packages/torch/serialization.py:251: UserWarning: Couldn't retrieve source code for container of type MyCNN. It won't be checked for correctness upon loading.\n",
      "  \"type \" + obj.__name__ + \". It won't be checked \"\n",
      "//anaconda/envs/py36/lib/python3.6/site-packages/torch/serialization.py:251: UserWarning: Couldn't retrieve source code for container of type MyCNN. It won't be checked for correctness upon loading.\n",
      "  \"type \" + obj.__name__ + \". It won't be checked \"\n",
      "//anaconda/envs/py36/lib/python3.6/site-packages/torch/serialization.py:251: UserWarning: Couldn't retrieve source code for container of type MyCNN. It won't be checked for correctness upon loading.\n",
      "  \"type \" + obj.__name__ + \". It won't be checked \"\n",
      "//anaconda/envs/py36/lib/python3.6/site-packages/torch/serialization.py:251: UserWarning: Couldn't retrieve source code for container of type MyCNN. It won't be checked for correctness upon loading.\n",
      "  \"type \" + obj.__name__ + \". It won't be checked \"\n",
      "//anaconda/envs/py36/lib/python3.6/site-packages/torch/serialization.py:251: UserWarning: Couldn't retrieve source code for container of type MyCNN. It won't be checked for correctness upon loading.\n",
      "  \"type \" + obj.__name__ + \". It won't be checked \"\n",
      "//anaconda/envs/py36/lib/python3.6/site-packages/torch/serialization.py:251: UserWarning: Couldn't retrieve source code for container of type MyCNN. It won't be checked for correctness upon loading.\n",
      "  \"type \" + obj.__name__ + \". It won't be checked \"\n",
      "//anaconda/envs/py36/lib/python3.6/site-packages/torch/serialization.py:251: UserWarning: Couldn't retrieve source code for container of type MyCNN. It won't be checked for correctness upon loading.\n",
      "  \"type \" + obj.__name__ + \". It won't be checked \"\n",
      "//anaconda/envs/py36/lib/python3.6/site-packages/torch/serialization.py:251: UserWarning: Couldn't retrieve source code for container of type MyCNN. It won't be checked for correctness upon loading.\n",
      "  \"type \" + obj.__name__ + \". It won't be checked \"\n",
      "//anaconda/envs/py36/lib/python3.6/site-packages/torch/serialization.py:251: UserWarning: Couldn't retrieve source code for container of type MyCNN. It won't be checked for correctness upon loading.\n",
      "  \"type \" + obj.__name__ + \". It won't be checked \"\n",
      "//anaconda/envs/py36/lib/python3.6/site-packages/torch/serialization.py:251: UserWarning: Couldn't retrieve source code for container of type MyCNN. It won't be checked for correctness upon loading.\n",
      "  \"type \" + obj.__name__ + \". It won't be checked \"\n",
      "//anaconda/envs/py36/lib/python3.6/site-packages/torch/serialization.py:251: UserWarning: Couldn't retrieve source code for container of type MyCNN. It won't be checked for correctness upon loading.\n",
      "  \"type \" + obj.__name__ + \". It won't be checked \"\n",
      "//anaconda/envs/py36/lib/python3.6/site-packages/torch/serialization.py:251: UserWarning: Couldn't retrieve source code for container of type MyCNN. It won't be checked for correctness upon loading.\n",
      "  \"type \" + obj.__name__ + \". It won't be checked \"\n",
      "//anaconda/envs/py36/lib/python3.6/site-packages/torch/serialization.py:251: UserWarning: Couldn't retrieve source code for container of type MyCNN. It won't be checked for correctness upon loading.\n",
      "  \"type \" + obj.__name__ + \". It won't be checked \"\n",
      "//anaconda/envs/py36/lib/python3.6/site-packages/torch/serialization.py:251: UserWarning: Couldn't retrieve source code for container of type MyCNN. It won't be checked for correctness upon loading.\n",
      "  \"type \" + obj.__name__ + \". It won't be checked \"\n",
      "//anaconda/envs/py36/lib/python3.6/site-packages/torch/serialization.py:251: UserWarning: Couldn't retrieve source code for container of type MyCNN. It won't be checked for correctness upon loading.\n",
      "  \"type \" + obj.__name__ + \". It won't be checked \"\n",
      "//anaconda/envs/py36/lib/python3.6/site-packages/torch/serialization.py:251: UserWarning: Couldn't retrieve source code for container of type MyCNN. It won't be checked for correctness upon loading.\n",
      "  \"type \" + obj.__name__ + \". It won't be checked \"\n",
      "//anaconda/envs/py36/lib/python3.6/site-packages/torch/serialization.py:251: UserWarning: Couldn't retrieve source code for container of type MyCNN. It won't be checked for correctness upon loading.\n",
      "  \"type \" + obj.__name__ + \". It won't be checked \"\n",
      "//anaconda/envs/py36/lib/python3.6/site-packages/torch/serialization.py:251: UserWarning: Couldn't retrieve source code for container of type MyCNN. It won't be checked for correctness upon loading.\n",
      "  \"type \" + obj.__name__ + \". It won't be checked \"\n",
      "//anaconda/envs/py36/lib/python3.6/site-packages/torch/serialization.py:251: UserWarning: Couldn't retrieve source code for container of type MyCNN. It won't be checked for correctness upon loading.\n",
      "  \"type \" + obj.__name__ + \". It won't be checked \"\n",
      "//anaconda/envs/py36/lib/python3.6/site-packages/torch/serialization.py:251: UserWarning: Couldn't retrieve source code for container of type MyCNN. It won't be checked for correctness upon loading.\n",
      "  \"type \" + obj.__name__ + \". It won't be checked \"\n",
      "//anaconda/envs/py36/lib/python3.6/site-packages/torch/serialization.py:251: UserWarning: Couldn't retrieve source code for container of type MyCNN. It won't be checked for correctness upon loading.\n",
      "  \"type \" + obj.__name__ + \". It won't be checked \"\n",
      "//anaconda/envs/py36/lib/python3.6/site-packages/torch/serialization.py:251: UserWarning: Couldn't retrieve source code for container of type MyCNN. It won't be checked for correctness upon loading.\n",
      "  \"type \" + obj.__name__ + \". It won't be checked \"\n",
      "//anaconda/envs/py36/lib/python3.6/site-packages/torch/serialization.py:251: UserWarning: Couldn't retrieve source code for container of type MyCNN. It won't be checked for correctness upon loading.\n",
      "  \"type \" + obj.__name__ + \". It won't be checked \"\n",
      "//anaconda/envs/py36/lib/python3.6/site-packages/torch/serialization.py:251: UserWarning: Couldn't retrieve source code for container of type MyCNN. It won't be checked for correctness upon loading.\n",
      "  \"type \" + obj.__name__ + \". It won't be checked \"\n",
      "//anaconda/envs/py36/lib/python3.6/site-packages/torch/serialization.py:251: UserWarning: Couldn't retrieve source code for container of type MyCNN. It won't be checked for correctness upon loading.\n",
      "  \"type \" + obj.__name__ + \". It won't be checked \"\n",
      "//anaconda/envs/py36/lib/python3.6/site-packages/torch/serialization.py:251: UserWarning: Couldn't retrieve source code for container of type MyCNN. It won't be checked for correctness upon loading.\n",
      "  \"type \" + obj.__name__ + \". It won't be checked \"\n",
      "//anaconda/envs/py36/lib/python3.6/site-packages/torch/serialization.py:251: UserWarning: Couldn't retrieve source code for container of type MyCNN. It won't be checked for correctness upon loading.\n",
      "  \"type \" + obj.__name__ + \". It won't be checked \"\n",
      "//anaconda/envs/py36/lib/python3.6/site-packages/torch/serialization.py:251: UserWarning: Couldn't retrieve source code for container of type MyCNN. It won't be checked for correctness upon loading.\n",
      "  \"type \" + obj.__name__ + \". It won't be checked \"\n",
      "//anaconda/envs/py36/lib/python3.6/site-packages/torch/serialization.py:251: UserWarning: Couldn't retrieve source code for container of type MyCNN. It won't be checked for correctness upon loading.\n",
      "  \"type \" + obj.__name__ + \". It won't be checked \"\n",
      "//anaconda/envs/py36/lib/python3.6/site-packages/torch/serialization.py:251: UserWarning: Couldn't retrieve source code for container of type MyCNN. It won't be checked for correctness upon loading.\n",
      "  \"type \" + obj.__name__ + \". It won't be checked \"\n",
      "//anaconda/envs/py36/lib/python3.6/site-packages/torch/serialization.py:251: UserWarning: Couldn't retrieve source code for container of type MyCNN. It won't be checked for correctness upon loading.\n",
      "  \"type \" + obj.__name__ + \". It won't be checked \"\n"
     ]
    },
    {
     "name": "stderr",
     "output_type": "stream",
     "text": [
      "//anaconda/envs/py36/lib/python3.6/site-packages/torch/serialization.py:251: UserWarning: Couldn't retrieve source code for container of type MyCNN. It won't be checked for correctness upon loading.\n",
      "  \"type \" + obj.__name__ + \". It won't be checked \"\n",
      "//anaconda/envs/py36/lib/python3.6/site-packages/torch/serialization.py:251: UserWarning: Couldn't retrieve source code for container of type MyCNN. It won't be checked for correctness upon loading.\n",
      "  \"type \" + obj.__name__ + \". It won't be checked \"\n",
      "//anaconda/envs/py36/lib/python3.6/site-packages/torch/serialization.py:251: UserWarning: Couldn't retrieve source code for container of type MyCNN. It won't be checked for correctness upon loading.\n",
      "  \"type \" + obj.__name__ + \". It won't be checked \"\n",
      "//anaconda/envs/py36/lib/python3.6/site-packages/torch/serialization.py:251: UserWarning: Couldn't retrieve source code for container of type MyCNN. It won't be checked for correctness upon loading.\n",
      "  \"type \" + obj.__name__ + \". It won't be checked \"\n",
      "//anaconda/envs/py36/lib/python3.6/site-packages/torch/serialization.py:251: UserWarning: Couldn't retrieve source code for container of type MyCNN. It won't be checked for correctness upon loading.\n",
      "  \"type \" + obj.__name__ + \". It won't be checked \"\n",
      "//anaconda/envs/py36/lib/python3.6/site-packages/torch/serialization.py:251: UserWarning: Couldn't retrieve source code for container of type MyCNN. It won't be checked for correctness upon loading.\n",
      "  \"type \" + obj.__name__ + \". It won't be checked \"\n",
      "//anaconda/envs/py36/lib/python3.6/site-packages/torch/serialization.py:251: UserWarning: Couldn't retrieve source code for container of type MyCNN. It won't be checked for correctness upon loading.\n",
      "  \"type \" + obj.__name__ + \". It won't be checked \"\n"
     ]
    }
   ],
   "source": [
    "output_dict = {'CNN':pd.DataFrame(),'RNN':pd.DataFrame()}\n",
    "for cluster in range(n_clusters):\n",
    "    cluster_df = data.loc[data.cluster==cluster]\n",
    "    train,test = train_test_split(cluster_df,test_size=0.2)\n",
    "    output_dict_cluster = runCNNRNN(features+['angus'],'_with_Out_Notes',train,test,PATH_OUTPUT+'cluster/')\n",
    "    for modelType,output in output_dict_cluster.items():\n",
    "        output_dict[modelType] = pd.concat([output_dict[modelType],output])"
   ]
  },
  {
   "cell_type": "code",
   "execution_count": 108,
   "metadata": {
    "ExecuteTime": {
     "end_time": "2019-04-28T00:40:51.101212Z",
     "start_time": "2019-04-28T00:40:51.043332Z"
    }
   },
   "outputs": [
    {
     "name": "stdout",
     "output_type": "stream",
     "text": [
      "0.8177081602502951\n",
      "CNN\n",
      "****************\n",
      "0.7710027103582012\n",
      "RNN\n",
      "****************\n"
     ]
    }
   ],
   "source": [
    "for modelType,output in output_dict.items():\n",
    "    finalOutput[label][modelType] = output\n",
    "    rocCurve(output,modelType)\n",
    "    print(modelType)\n",
    "    print(\"****************\")"
   ]
  },
  {
   "cell_type": "markdown",
   "metadata": {
    "ExecuteTime": {
     "end_time": "2019-04-27T22:44:44.373966Z",
     "start_time": "2019-04-27T22:44:44.356298Z"
    }
   },
   "source": [
    "## Saving All the Model results to a File"
   ]
  },
  {
   "cell_type": "code",
   "execution_count": 109,
   "metadata": {
    "ExecuteTime": {
     "end_time": "2019-04-28T00:42:43.440999Z",
     "start_time": "2019-04-28T00:42:43.306123Z"
    }
   },
   "outputs": [],
   "source": [
    "store = pd.HDFStore(PATH_OUTPUT+'all_output.h5')"
   ]
  },
  {
   "cell_type": "code",
   "execution_count": 110,
   "metadata": {
    "ExecuteTime": {
     "end_time": "2019-04-28T00:43:56.026520Z",
     "start_time": "2019-04-28T00:43:55.893593Z"
    }
   },
   "outputs": [],
   "source": [
    "for label,output_dict in finalOutput.items():\n",
    "    for modelType,output in output_dict.items():\n",
    "        store[label+'_'+modelType] = output"
   ]
  },
  {
   "cell_type": "code",
   "execution_count": 112,
   "metadata": {
    "ExecuteTime": {
     "end_time": "2019-04-28T00:44:13.825594Z",
     "start_time": "2019-04-28T00:44:13.818510Z"
    }
   },
   "outputs": [],
   "source": [
    "store.close()"
   ]
  },
  {
   "cell_type": "markdown",
   "metadata": {},
   "source": [
    "## Output Analysis"
   ]
  },
  {
   "cell_type": "code",
   "execution_count": 116,
   "metadata": {
    "ExecuteTime": {
     "end_time": "2019-04-28T00:50:22.948692Z",
     "start_time": "2019-04-28T00:50:22.918805Z"
    }
   },
   "outputs": [],
   "source": [
    "def rocCurves(saveFig,PATH_OUTPUT):\n",
    "    store = pd.HDFStore(PATH_OUTPUT+'all_output.h5')\n",
    "    plt.figure(figsize=(12, 10))\n",
    "    for key in store.keys():\n",
    "        df = store[key]\n",
    "        y_test,y_pred,y_prob = df.y_test,df.y_pred,df.y_prob\n",
    "        model = key.replace(\"/\",\"\")\n",
    "        logit_roc_auc = roc_auc_score(y_test, y_pred)\n",
    "        fpr, tpr, thresholds = roc_curve(y_test, y_prob)\n",
    "        plt.plot(fpr, tpr, label= model + ' (area = %0.2f)' % logit_roc_auc)\n",
    "    store.close()\n",
    "    plt.plot([0, 1], [0, 1],'r--')\n",
    "    plt.xlim([0.0, 1.0])\n",
    "    plt.ylim([0.0, 1.05])\n",
    "    plt.xlabel('False Positive Rate')\n",
    "    plt.ylabel('True Positive Rate')\n",
    "    plt.title('Receiver operating characteristic')\n",
    "    plt.legend(loc=\"lower right\")\n",
    "    plt.savefig(PATH_OUTPUT+saveFig)\n",
    "    plt.show()"
   ]
  },
  {
   "cell_type": "code",
   "execution_count": 117,
   "metadata": {
    "ExecuteTime": {
     "end_time": "2019-04-28T00:50:24.800108Z",
     "start_time": "2019-04-28T00:50:24.495763Z"
    }
   },
   "outputs": [],
   "source": [
    "rocCurves('analysis.jpg',PATH_OUTPUT)"
   ]
  },
  {
   "cell_type": "markdown",
   "metadata": {},
   "source": [
    "## Confusion Matrix"
   ]
  },
  {
   "cell_type": "code",
   "execution_count": 138,
   "metadata": {
    "ExecuteTime": {
     "end_time": "2019-04-28T02:05:52.566062Z",
     "start_time": "2019-04-28T02:05:52.510828Z"
    }
   },
   "outputs": [],
   "source": [
    "from sklearn.metrics import confusion_matrix\n",
    "import itertools\n",
    "def plot_confusion_matrix1(cm, classes,PATH_OUTPUT,\n",
    "                          title='Confusion matrix',\n",
    "                          cmap=plt.cm.Blues):\n",
    "    \"\"\"\n",
    "    This function prints and plots the confusion matrix.\n",
    "    Normalization can be applied by setting `normalize=True`.\n",
    "    \"\"\"\n",
    "    cm = cm.astype('float') / cm.sum(axis=1)[:, np.newaxis]\n",
    "\n",
    "    plt.imshow(cm, interpolation='nearest', cmap=cmap)\n",
    "    plt.title(title)\n",
    "    plt.colorbar()\n",
    "    tick_marks = np.arange(len(classes))\n",
    "    plt.xticks(tick_marks, classes, rotation=45)\n",
    "    plt.yticks(tick_marks, classes)\n",
    "\n",
    "    fmt = '.2f'\n",
    "    thresh = cm.max() / 2.\n",
    "    for i, j in itertools.product(range(cm.shape[0]), range(cm.shape[1])):\n",
    "        plt.text(j, i, format(cm[i, j], fmt),\n",
    "                 horizontalalignment=\"center\",\n",
    "                 color=\"white\" if cm[i, j] > thresh else \"black\")\n",
    "\n",
    "    plt.ylabel('True label')\n",
    "    plt.xlabel('Predicted label')\n",
    "    plt.tight_layout()\n",
    "    plt.savefig(PATH_OUTPUT+title+'.jpg')\n",
    "    plt.clf()\n",
    "\n",
    "def plot_confusion_matrix(results, class_names,label,PATH_OUTPUT):\n",
    "\t# TODO: Make a confusion matrix plot.\n",
    "\t# TODO: You do not have to return the plots.\n",
    "\t# TODO: You can save plots as files by codes here or an interactive way according to your preference.\n",
    "\t# print(results)\n",
    "\ty_true,y_pred,_ = zip(*results)\n",
    "\tcnf_matrix = confusion_matrix(y_true, y_pred)\n",
    "\tplot_confusion_matrix1(cnf_matrix,class_names,PATH_OUTPUT,title=label)"
   ]
  },
  {
   "cell_type": "code",
   "execution_count": 139,
   "metadata": {
    "ExecuteTime": {
     "end_time": "2019-04-28T02:05:55.571464Z",
     "start_time": "2019-04-28T02:05:53.982180Z"
    }
   },
   "outputs": [],
   "source": [
    "store = pd.HDFStore(PATH_OUTPUT+'all_output.h5')\n",
    "plt.figure(figsize=(7, 7))\n",
    "for key in store.keys():\n",
    "    df = store[key]\n",
    "    y_test,y_pred,y_prob = df.y_test,df.y_pred,df.y_prob\n",
    "    plot_confusion_matrix(zip(y_test,y_pred,y_prob),['No Sepsis','Sepsis'],key.replace(\"/\",\"\"),PATH_OUTPUT+'test/')\n",
    "store.close()"
   ]
  },
  {
   "cell_type": "markdown",
   "metadata": {},
   "source": [
    "## Accuray scores"
   ]
  },
  {
   "cell_type": "code",
   "execution_count": 132,
   "metadata": {
    "ExecuteTime": {
     "end_time": "2019-04-28T01:48:27.226067Z",
     "start_time": "2019-04-28T01:48:27.034358Z"
    }
   },
   "outputs": [
    {
     "data": {
      "text/html": [
       "<div>\n",
       "<style scoped>\n",
       "    .dataframe tbody tr th:only-of-type {\n",
       "        vertical-align: middle;\n",
       "    }\n",
       "\n",
       "    .dataframe tbody tr th {\n",
       "        vertical-align: top;\n",
       "    }\n",
       "\n",
       "    .dataframe thead th {\n",
       "        text-align: right;\n",
       "    }\n",
       "</style>\n",
       "<table border=\"1\" class=\"dataframe\">\n",
       "  <thead>\n",
       "    <tr style=\"text-align: right;\">\n",
       "      <th></th>\n",
       "      <th>model</th>\n",
       "      <th>accuracy</th>\n",
       "    </tr>\n",
       "  </thead>\n",
       "  <tbody>\n",
       "    <tr>\n",
       "      <th>0</th>\n",
       "      <td>KMeans_CNN</td>\n",
       "      <td>0.855069</td>\n",
       "    </tr>\n",
       "    <tr>\n",
       "      <th>1</th>\n",
       "      <td>KMeans_Logistic</td>\n",
       "      <td>0.857798</td>\n",
       "    </tr>\n",
       "    <tr>\n",
       "      <th>2</th>\n",
       "      <td>KMeans_RNN</td>\n",
       "      <td>0.846448</td>\n",
       "    </tr>\n",
       "    <tr>\n",
       "      <th>3</th>\n",
       "      <td>Notes_soft_Clustering_CNN</td>\n",
       "      <td>0.903078</td>\n",
       "    </tr>\n",
       "    <tr>\n",
       "      <th>4</th>\n",
       "      <td>Notes_soft_Clustering_Logistic</td>\n",
       "      <td>0.871207</td>\n",
       "    </tr>\n",
       "    <tr>\n",
       "      <th>5</th>\n",
       "      <td>Notes_soft_Clustering_RNN</td>\n",
       "      <td>0.866296</td>\n",
       "    </tr>\n",
       "    <tr>\n",
       "      <th>6</th>\n",
       "      <td>withOutNotes_CNN</td>\n",
       "      <td>0.856909</td>\n",
       "    </tr>\n",
       "    <tr>\n",
       "      <th>7</th>\n",
       "      <td>withOutNotes_Logistic</td>\n",
       "      <td>0.860183</td>\n",
       "    </tr>\n",
       "    <tr>\n",
       "      <th>8</th>\n",
       "      <td>withOutNotes_RNN</td>\n",
       "      <td>0.863130</td>\n",
       "    </tr>\n",
       "  </tbody>\n",
       "</table>\n",
       "</div>"
      ],
      "text/plain": [
       "                            model  accuracy\n",
       "0                      KMeans_CNN  0.855069\n",
       "1                 KMeans_Logistic  0.857798\n",
       "2                      KMeans_RNN  0.846448\n",
       "3       Notes_soft_Clustering_CNN  0.903078\n",
       "4  Notes_soft_Clustering_Logistic  0.871207\n",
       "5       Notes_soft_Clustering_RNN  0.866296\n",
       "6                withOutNotes_CNN  0.856909\n",
       "7           withOutNotes_Logistic  0.860183\n",
       "8                withOutNotes_RNN  0.863130"
      ]
     },
     "execution_count": 132,
     "metadata": {},
     "output_type": "execute_result"
    }
   ],
   "source": [
    "accuracy = []\n",
    "models = []\n",
    "store = pd.HDFStore(PATH_OUTPUT+'all_output.h5')\n",
    "for key in store.keys():\n",
    "    df = store[key]\n",
    "    y_test,y_pred,y_prob = df.y_test,df.y_pred,df.y_prob\n",
    "    accuracy.append(accuracy_score(y_test,y_pred))\n",
    "    models.append(key.replace(\"/\",\"\"))\n",
    "store.close() \n",
    "accDF = pd.DataFrame({'model':models,'accuracy':accuracy})\n",
    "accDF"
   ]
  },
  {
   "cell_type": "code",
   "execution_count": null,
   "metadata": {},
   "outputs": [],
   "source": []
  }
 ],
 "metadata": {
  "kernelspec": {
   "display_name": "Python 3",
   "language": "python",
   "name": "python3"
  },
  "language_info": {
   "codemirror_mode": {
    "name": "ipython",
    "version": 3
   },
   "file_extension": ".py",
   "mimetype": "text/x-python",
   "name": "python",
   "nbconvert_exporter": "python",
   "pygments_lexer": "ipython3",
   "version": "3.6.8"
  },
  "latex_envs": {
   "LaTeX_envs_menu_present": true,
   "autoclose": false,
   "autocomplete": true,
   "bibliofile": "biblio.bib",
   "cite_by": "apalike",
   "current_citInitial": 1,
   "eqLabelWithNumbers": true,
   "eqNumInitial": 1,
   "hotkeys": {
    "equation": "Ctrl-E",
    "itemize": "Ctrl-I"
   },
   "labels_anchors": false,
   "latex_user_defs": false,
   "report_style_numbering": false,
   "user_envs_cfg": false
  },
  "toc": {
   "base_numbering": 1,
   "nav_menu": {},
   "number_sections": true,
   "sideBar": true,
   "skip_h1_title": false,
   "title_cell": "Table of Contents",
   "title_sidebar": "Contents",
   "toc_cell": false,
   "toc_position": {},
   "toc_section_display": true,
   "toc_window_display": false
  },
  "varInspector": {
   "cols": {
    "lenName": 16,
    "lenType": 16,
    "lenVar": 40
   },
   "kernels_config": {
    "python": {
     "delete_cmd_postfix": "",
     "delete_cmd_prefix": "del ",
     "library": "var_list.py",
     "varRefreshCmd": "print(var_dic_list())"
    },
    "r": {
     "delete_cmd_postfix": ") ",
     "delete_cmd_prefix": "rm(",
     "library": "var_list.r",
     "varRefreshCmd": "cat(var_dic_list()) "
    }
   },
   "types_to_exclude": [
    "module",
    "function",
    "builtin_function_or_method",
    "instance",
    "_Feature"
   ],
   "window_display": false
  }
 },
 "nbformat": 4,
 "nbformat_minor": 2
}
